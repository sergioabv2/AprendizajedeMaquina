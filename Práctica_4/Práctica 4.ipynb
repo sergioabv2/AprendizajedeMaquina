{
 "cells": [
  {
   "cell_type": "code",
   "execution_count": 6,
   "metadata": {
    "colab": {
     "base_uri": "https://localhost:8080/",
     "height": 458
    },
    "id": "pM4MqAPSVLok",
    "outputId": "c4d21718-932e-48a0-c61b-f06fe25be70d"
   },
   "outputs": [
    {
     "name": "stdout",
     "output_type": "stream",
     "text": [
      "Congratulations! You've won a free trip to Hawaii. Click here to claim your prize!\n",
      "Texto preprocesado: ['congratulation', 'free', 'trip', 'hawaii', 'click', 'claim', 'prize']\n",
      "Resultado deseado: ['congratulation', 'free', 'trip', 'hawaii', 'click', 'claim', 'prize']\n"
     ]
    }
   ],
   "source": [
    "#Creamos la función preprocess_text\n",
    "import pandas as pd\n",
    "import re\n",
    "import nltk\n",
    "from nltk.tokenize import word_tokenize\n",
    "from nltk.corpus import stopwords\n",
    "#nltk.download('punkt')\n",
    "#nltk.download('stopwords')\n",
    "#nltk.download('wordnet')\n",
    "\n",
    "def preprocess_text(text):\n",
    "    # Tokenización\n",
    "    tokens = word_tokenize(text)\n",
    "\n",
    "    # Lower case\n",
    "    tokens = [token.lower() for token in tokens]\n",
    "\n",
    "    # Eliminar caracteres especiales y números\n",
    "    tokens = [re.sub(r'[^a-zA-Z]', '', token) for token in tokens]\n",
    "\n",
    "    # Eliminar stop words\n",
    "    stop_words = set(stopwords.words('english'))\n",
    "    tokens = [token for token in tokens if token not in stop_words]\n",
    "\n",
    "    # Quitar cadenas vacías\n",
    "    tokens = [token for token in tokens if token]\n",
    "\n",
    "    # Lematización\n",
    "    lemmatizer = nltk.WordNetLemmatizer()\n",
    "    tokens = [lemmatizer.lemmatize(token) for token in tokens]\n",
    "\n",
    "    return tokens\n",
    "\n",
    "# Ejemplo de texto de correo electrónico\n",
    "email_text = \"Congratulations! You've won a free trip to Hawaii. Click here to claim your prize!\"\n",
    "print(email_text)\n",
    "# Preprocesamiento del texto del correo electrónico\n",
    "preprocessed_email = preprocess_text(email_text)\n",
    "print(\"Texto preprocesado:\", preprocessed_email)\n",
    "print(\"Resultado deseado:\",['congratulation', 'free', 'trip', 'hawaii', 'click', 'claim', 'prize'])"
   ]
  },
  {
   "cell_type": "code",
   "execution_count": null,
   "metadata": {
    "colab": {
     "base_uri": "https://localhost:8080/"
    },
    "id": "y-vTjaQbbbK_",
    "outputId": "144d6d57-a0ce-4d51-a151-af702366e45b"
   },
   "outputs": [],
   "source": [
    "# Aplicamos la funcion anterior a cada elemento de las listas con texto\n",
    "df = pd.read_csv(\"spam_ham_dataset.csv\")\n",
    "df_2 = df.drop(\"Unnamed: 0\",axis=1).drop(\"label\",axis=1)\n",
    "texto = df[\"text\"]\n",
    "labels = df[\"label_num\"]\n",
    "spam = df[df[\"label_num\"]==1][\"text\"]\n",
    "ham = df[df[\"label_num\"]==0][\"text\"]\n",
    "\n",
    "texto_2 = [preprocess_text(email) for email in texto]\n",
    "spam_2 = [preprocess_text(email) for email in spam]\n",
    "ham_2 = [preprocess_text(email) for email in ham]\n",
    "\n",
    "# Obtenemos el conjunto de palabras unicas de spam\n",
    "set_spam = set()\n",
    "for email in spam_2:\n",
    "  set_spam.update(set(email))\n",
    "\n",
    "# Obtenemos el conjunto de palabras unicas de ham\n",
    "set_ham = set()\n",
    "for email in ham_2:\n",
    "  set_ham.update(set(email))\n",
    "\n",
    "dict_spamicity = {}\n",
    "#Obtenemos la proba de que aparezca una palabra dado que es spam\n",
    "#Iteramos sobre las palabras que aparecen en spam\n",
    "# Iteramos sobre los correos de spam\n",
    "total_spam = len(spam)\n",
    "for palabra in set_spam:\n",
    "  pInSpam = 0\n",
    "  for email in spam_2:\n",
    "    if palabra in email:\n",
    "      pInSpam +=1\n",
    "  if pInSpam ==0:\n",
    "    proba = 1/total_spam # Parametro\n",
    "  else:\n",
    "    proba = pInSpam/total_spam\n",
    "  dict_spamicity[palabra] = proba\n",
    "\n",
    "dict_ham = {}\n",
    "#Obtenemos la proba de que aparezca una palabra dado que es ham\n",
    "#Iteramos sobre las palabras que aparecen en ham\n",
    "# Iteramos sobre los correos de ham\n",
    "total_ham = len(ham)\n",
    "for palabra in set_ham:\n",
    "  pInHam = 0\n",
    "  for email in ham_2:\n",
    "    if palabra in email:\n",
    "      pInHam +=1\n",
    "  if pInHam ==0:\n",
    "    proba = 1/total_ham # Parametro\n",
    "  else:\n",
    "    proba = pInHam/total_ham\n",
    "  dict_ham[palabra] = proba\n",
    "\n",
    "\n",
    "# Calculamos la probabilidad de spam y ham\n",
    "S = total_spam/(total_spam+total_ham)\n",
    "H = total_ham/(total_spam+total_ham)\n",
    "\n",
    "#Preparamos test individuales\n",
    "tests  = [\"\"\"Subject: re : indian springs\n",
    "this deal is to book the teco pvr revenue . it is my understanding that teco\n",
    "just sends us a check , i haven ' t received an answer as to whether there is a\n",
    "predermined price associated with this deal or if teco just lets us know what\n",
    "we are giving . i can continue to chase this deal down if you need .\"\"\", \"\"\"Subject: photoshop , windows , office . cheap . main trending\n",
    "abasements darer prudently fortuitous undergone\n",
    "lighthearted charm orinoco taster\n",
    "railroad affluent pornographic cuvier\n",
    "irvin parkhouse blameworthy chlorophyll\n",
    "robed diagrammatic fogarty clears bayda\n",
    "inconveniencing managing represented smartness hashish\n",
    "academies shareholders unload badness\n",
    "danielson pure caffein\n",
    "spaniard chargeable levin\"\"\"]\n",
    "tests = [preprocess_text(txt) for txt in tests]\n",
    "\n",
    "# Quitamos de los emails las palabras que no encontramos\n",
    "texto_preprocesado = []\n",
    "for email in tests:\n",
    "  email_nuevo = []\n",
    "  for palabra in email:\n",
    "    if palabra in set_ham:\n",
    "      email_nuevo.append(palabra)\n",
    "    else:\n",
    "      if palabra in set_spam:\n",
    "        email_nuevo.append(palabra)\n",
    "  texto_preprocesado.append(email_nuevo)\n",
    "texto_preprocesado"
   ]
  },
  {
   "cell_type": "code",
   "execution_count": null,
   "metadata": {
    "colab": {
     "base_uri": "https://localhost:8080/"
    },
    "id": "ZqFwZzQ8keHN",
    "outputId": "3e1ba29b-b19b-4c5b-8014-e816e1038205"
   },
   "outputs": [],
   "source": [
    "# Preparamos tests para medir metricas\n",
    "from sklearn.model_selection import train_test_split\n",
    "X_, X_test, y_, y_test = train_test_split(texto_2, labels, test_size=0.33, random_state=42)\n",
    "\n",
    "# Creamos funcion que reciba una lista de probabilidades, multiplique todas y regrese el resultado\n",
    "def mult(probas) :        # multiplicar todas las probas\n",
    "    total_prob = 1\n",
    "    for proba in probas:\n",
    "      total_prob*=proba\n",
    "    # Multiplicar todas las probas\n",
    "    return total_prob\n",
    "# Creamos funcion que aplique Naive_Bayes a un email, con un threshold como parametro\n",
    "def Naive_Bayes(email,threshold):\n",
    "    probs = []\n",
    "    S # prob_spam\n",
    "    H # prob_ham\n",
    "    # Iteramos sobre las palabras del email\n",
    "    for palabra in email:\n",
    "\n",
    "    # Calculamos la proba de PdadoS #*Si es 0 asignamos una probabilidad baja 1/(total_spam+2)\n",
    "      try:\n",
    "        PdadoS = dict_spamicity[palabra]\n",
    "      except:\n",
    "        PdadoS = 1/total_spam\n",
    "    # Calculamos la proba de PdadoH #*Si es 0 asignamos una probabilidad baja 1/(total_spam+2)\n",
    "      try:\n",
    "          PdadoH = dict_ham[palabra]\n",
    "      except:\n",
    "          PdadoH = 1/total_ham\n",
    "    # Aplicamos Bayes para obtener SdadoP\n",
    "      probaB = PdadoS*S/(PdadoS*S+ PdadoH*H)\n",
    "      probs.append(probaB)\n",
    "    # Multiplicamos todas las probas para obtener el total de SdadoEmail\n",
    "    SdadoEmail = mult(probs)\n",
    "    # Aplicamos el Threshold para determinar si es o no es spam\n",
    "    # print(SdadoEmail)\n",
    "    if SdadoEmail >= threshold:\n",
    "      SdadoEmail =1\n",
    "    else:\n",
    "      SdadoEmail = 0\n",
    "    return SdadoEmail\n",
    "for email in texto_preprocesado:\n",
    "  print(Naive_Bayes(email,.00000000000001))\n",
    "\n",
    "y_pred = [Naive_Bayes(email,.00000000000001) for email in X_test]\n",
    "\n",
    "from sklearn.metrics import confusion_matrix,classification_report,ConfusionMatrixDisplay\n",
    "print(classification_report(y_test,y_pred))\n",
    "\n",
    "import seaborn as sns\n",
    "import matplotlib.pyplot as plt\n",
    "\n",
    "sns.set_style('ticks')\n",
    "ConfusionMatrixDisplay(confusion_matrix(y_test,y_pred)).plot()\n",
    "plt.title(\"Confusion Matrix\")"
   ]
  },
  {
   "cell_type": "code",
   "execution_count": null,
   "metadata": {
    "colab": {
     "base_uri": "https://localhost:8080/",
     "height": 489
    },
    "id": "cIE14wgdjTIg",
    "outputId": "eb2d6544-3a3b-4679-a63c-eea0d478caa8"
   },
   "outputs": [
    {
     "data": {
      "text/plain": [
       "Text(0.5, 1.0, 'Confusion Matrix')"
      ]
     },
     "execution_count": 39,
     "metadata": {},
     "output_type": "execute_result"
    },
    {
     "data": {
      "image/png": "[encoded data removed]",
      "text/plain": [
       "<Figure size 640x480 with 2 Axes>"
      ]
     },
     "metadata": {},
     "output_type": "display_data"
    }
   ],
   "source": [
    "import seaborn as sns\n",
    "import matplotlib.pyplot as plt\n",
    "\n",
    "sns.set_style('ticks')\n",
    "ConfusionMatrixDisplay(confusion_matrix(y_test,y_pred)).plot()\n",
    "plt.title(\"Confusion Matrix\")"
   ]
  }
 ],
 "metadata": {
  "colab": {
   "provenance": []
  },
  "kernelspec": {
   "display_name": "Python 3 (ipykernel)",
   "language": "python",
   "name": "python3"
  },
  "language_info": {
   "codemirror_mode": {
    "name": "ipython",
    "version": 3
   },
   "file_extension": ".py",
   "mimetype": "text/x-python",
   "name": "python",
   "nbconvert_exporter": "python",
   "pygments_lexer": "ipython3",
   "version": "3.11.5"
  }
 },
 "nbformat": 4,
 "nbformat_minor": 4
}
